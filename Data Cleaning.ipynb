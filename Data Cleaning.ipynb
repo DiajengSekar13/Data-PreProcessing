{
 "cells": [
  {
   "cell_type": "code",
   "execution_count": 33,
   "id": "a295d80c-9772-4526-abbb-e6fcaf898b77",
   "metadata": {},
   "outputs": [],
   "source": [
    "import pandas as pd\n",
    "import numpy as np"
   ]
  },
  {
   "cell_type": "code",
   "execution_count": 34,
   "id": "e33930b3-bcfa-438f-89e9-a333cdd46a8e",
   "metadata": {
    "scrolled": true
   },
   "outputs": [
    {
     "data": {
      "text/html": [
       "<div>\n",
       "<style scoped>\n",
       "    .dataframe tbody tr th:only-of-type {\n",
       "        vertical-align: middle;\n",
       "    }\n",
       "\n",
       "    .dataframe tbody tr th {\n",
       "        vertical-align: top;\n",
       "    }\n",
       "\n",
       "    .dataframe thead th {\n",
       "        text-align: right;\n",
       "    }\n",
       "</style>\n",
       "<table border=\"1\" class=\"dataframe\">\n",
       "  <thead>\n",
       "    <tr style=\"text-align: right;\">\n",
       "      <th></th>\n",
       "      <th>MPG</th>\n",
       "      <th>Cylinders</th>\n",
       "      <th>Cubichnes</th>\n",
       "      <th>HP</th>\n",
       "    </tr>\n",
       "  </thead>\n",
       "  <tbody>\n",
       "    <tr>\n",
       "      <th>Yaris</th>\n",
       "      <td>14.0</td>\n",
       "      <td>8.0</td>\n",
       "      <td>350.0</td>\n",
       "      <td>165.0</td>\n",
       "    </tr>\n",
       "    <tr>\n",
       "      <th>Ayla</th>\n",
       "      <td>31.9</td>\n",
       "      <td>4.0</td>\n",
       "      <td>89.0</td>\n",
       "      <td>71.0</td>\n",
       "    </tr>\n",
       "    <tr>\n",
       "      <th>Wuling</th>\n",
       "      <td>517.0</td>\n",
       "      <td>8.0</td>\n",
       "      <td>302.0</td>\n",
       "      <td>140.0</td>\n",
       "    </tr>\n",
       "    <tr>\n",
       "      <th>Kijang</th>\n",
       "      <td>15.0</td>\n",
       "      <td>NaN</td>\n",
       "      <td>400.0</td>\n",
       "      <td>150.0</td>\n",
       "    </tr>\n",
       "    <tr>\n",
       "      <th>Avanza</th>\n",
       "      <td>30.5</td>\n",
       "      <td>NaN</td>\n",
       "      <td>NaN</td>\n",
       "      <td>NaN</td>\n",
       "    </tr>\n",
       "    <tr>\n",
       "      <th>Datsun</th>\n",
       "      <td>23.0</td>\n",
       "      <td>NaN</td>\n",
       "      <td>250.0</td>\n",
       "      <td>125.0</td>\n",
       "    </tr>\n",
       "    <tr>\n",
       "      <th>Fiat</th>\n",
       "      <td>13.0</td>\n",
       "      <td>NaN</td>\n",
       "      <td>351.0</td>\n",
       "      <td>158.0</td>\n",
       "    </tr>\n",
       "    <tr>\n",
       "      <th>Fred</th>\n",
       "      <td>14.0</td>\n",
       "      <td>8.0</td>\n",
       "      <td>NaN</td>\n",
       "      <td>215.0</td>\n",
       "    </tr>\n",
       "    <tr>\n",
       "      <th>Jazz</th>\n",
       "      <td>25.4</td>\n",
       "      <td>5.0</td>\n",
       "      <td>NaN</td>\n",
       "      <td>77.0</td>\n",
       "    </tr>\n",
       "    <tr>\n",
       "      <th>Terios</th>\n",
       "      <td>37.7</td>\n",
       "      <td>4.0</td>\n",
       "      <td>89.0</td>\n",
       "      <td>62.0</td>\n",
       "    </tr>\n",
       "  </tbody>\n",
       "</table>\n",
       "</div>"
      ],
      "text/plain": [
       "          MPG  Cylinders  Cubichnes     HP\n",
       "Yaris    14.0        8.0      350.0  165.0\n",
       "Ayla     31.9        4.0       89.0   71.0\n",
       "Wuling  517.0        8.0      302.0  140.0\n",
       "Kijang   15.0        NaN      400.0  150.0\n",
       "Avanza   30.5        NaN        NaN    NaN\n",
       "Datsun   23.0        NaN      250.0  125.0\n",
       "Fiat     13.0        NaN      351.0  158.0\n",
       "Fred     14.0        8.0        NaN  215.0\n",
       "Jazz     25.4        5.0        NaN   77.0\n",
       "Terios   37.7        4.0       89.0   62.0"
      ]
     },
     "execution_count": 34,
     "metadata": {},
     "output_type": "execute_result"
    }
   ],
   "source": [
    "data = [{'MPG':14, 'Cylinders':8, 'Cubichnes':350, 'HP':165},\n",
    "        {'MPG':31.9, 'Cylinders':4, 'Cubichnes':89, 'HP':71},\n",
    "        {'MPG':517, 'Cylinders':8, 'Cubichnes':302, 'HP':140},\n",
    "        {'MPG':15, 'Cubichnes':400, 'HP':150},\n",
    "        {'MPG':30.5},\n",
    "        {'MPG':23, 'Cubichnes':250, 'HP':125},\n",
    "        {'MPG':13, 'Cubichnes':351, 'HP':158},\n",
    "        {'MPG':14, 'Cylinders':8, 'HP':215},\n",
    "        {'MPG':25.4, 'Cylinders':5, 'HP':77},\n",
    "        {'MPG':37.7, 'Cylinders':4, 'Cubichnes':89, 'HP':62}]\n",
    "\n",
    "df = pd.DataFrame(data, index=['Yaris','Ayla','Wuling','Kijang','Avanza','Datsun','Fiat','Fred','Jazz','Terios'])\n",
    "df"
   ]
  },
  {
   "cell_type": "markdown",
   "id": "46a6552d-0329-41a4-92a9-e910fbad8f52",
   "metadata": {},
   "source": [
    "#### Mengganti Missing value dengan nilai rata rata pada kolom \"Cylinders\" dan \"Cubinchnes\""
   ]
  },
  {
   "cell_type": "code",
   "execution_count": 35,
   "id": "02a3830f-dd32-46c9-a645-c7a3bd296f65",
   "metadata": {
    "scrolled": true
   },
   "outputs": [
    {
     "data": {
      "text/plain": [
       "MPG          0\n",
       "Cylinders    4\n",
       "Cubichnes    3\n",
       "HP           1\n",
       "dtype: int64"
      ]
     },
     "execution_count": 35,
     "metadata": {},
     "output_type": "execute_result"
    }
   ],
   "source": [
    "df.isna().sum()"
   ]
  },
  {
   "cell_type": "code",
   "execution_count": 36,
   "id": "a1056919-a40f-40c0-8b20-69bcf3b64709",
   "metadata": {},
   "outputs": [
    {
     "data": {
      "text/plain": [
       "6.166666666666667"
      ]
     },
     "execution_count": 36,
     "metadata": {},
     "output_type": "execute_result"
    }
   ],
   "source": [
    "rata_silinder = df[\"Cylinders\"].mean()\n",
    "rata_silinder"
   ]
  },
  {
   "cell_type": "code",
   "execution_count": 37,
   "id": "c46637a1-1fb4-4533-9e4f-b5e0bf3a6925",
   "metadata": {
    "scrolled": true
   },
   "outputs": [
    {
     "data": {
      "text/html": [
       "<div>\n",
       "<style scoped>\n",
       "    .dataframe tbody tr th:only-of-type {\n",
       "        vertical-align: middle;\n",
       "    }\n",
       "\n",
       "    .dataframe tbody tr th {\n",
       "        vertical-align: top;\n",
       "    }\n",
       "\n",
       "    .dataframe thead th {\n",
       "        text-align: right;\n",
       "    }\n",
       "</style>\n",
       "<table border=\"1\" class=\"dataframe\">\n",
       "  <thead>\n",
       "    <tr style=\"text-align: right;\">\n",
       "      <th></th>\n",
       "      <th>MPG</th>\n",
       "      <th>Cylinders</th>\n",
       "      <th>Cubichnes</th>\n",
       "      <th>HP</th>\n",
       "    </tr>\n",
       "  </thead>\n",
       "  <tbody>\n",
       "    <tr>\n",
       "      <th>Yaris</th>\n",
       "      <td>14.0</td>\n",
       "      <td>8.000000</td>\n",
       "      <td>350.0</td>\n",
       "      <td>165.0</td>\n",
       "    </tr>\n",
       "    <tr>\n",
       "      <th>Ayla</th>\n",
       "      <td>31.9</td>\n",
       "      <td>4.000000</td>\n",
       "      <td>89.0</td>\n",
       "      <td>71.0</td>\n",
       "    </tr>\n",
       "    <tr>\n",
       "      <th>Wuling</th>\n",
       "      <td>517.0</td>\n",
       "      <td>8.000000</td>\n",
       "      <td>302.0</td>\n",
       "      <td>140.0</td>\n",
       "    </tr>\n",
       "    <tr>\n",
       "      <th>Kijang</th>\n",
       "      <td>15.0</td>\n",
       "      <td>6.166667</td>\n",
       "      <td>400.0</td>\n",
       "      <td>150.0</td>\n",
       "    </tr>\n",
       "    <tr>\n",
       "      <th>Avanza</th>\n",
       "      <td>30.5</td>\n",
       "      <td>6.166667</td>\n",
       "      <td>NaN</td>\n",
       "      <td>NaN</td>\n",
       "    </tr>\n",
       "    <tr>\n",
       "      <th>Datsun</th>\n",
       "      <td>23.0</td>\n",
       "      <td>6.166667</td>\n",
       "      <td>250.0</td>\n",
       "      <td>125.0</td>\n",
       "    </tr>\n",
       "    <tr>\n",
       "      <th>Fiat</th>\n",
       "      <td>13.0</td>\n",
       "      <td>6.166667</td>\n",
       "      <td>351.0</td>\n",
       "      <td>158.0</td>\n",
       "    </tr>\n",
       "    <tr>\n",
       "      <th>Fred</th>\n",
       "      <td>14.0</td>\n",
       "      <td>8.000000</td>\n",
       "      <td>NaN</td>\n",
       "      <td>215.0</td>\n",
       "    </tr>\n",
       "    <tr>\n",
       "      <th>Jazz</th>\n",
       "      <td>25.4</td>\n",
       "      <td>5.000000</td>\n",
       "      <td>NaN</td>\n",
       "      <td>77.0</td>\n",
       "    </tr>\n",
       "    <tr>\n",
       "      <th>Terios</th>\n",
       "      <td>37.7</td>\n",
       "      <td>4.000000</td>\n",
       "      <td>89.0</td>\n",
       "      <td>62.0</td>\n",
       "    </tr>\n",
       "  </tbody>\n",
       "</table>\n",
       "</div>"
      ],
      "text/plain": [
       "          MPG  Cylinders  Cubichnes     HP\n",
       "Yaris    14.0   8.000000      350.0  165.0\n",
       "Ayla     31.9   4.000000       89.0   71.0\n",
       "Wuling  517.0   8.000000      302.0  140.0\n",
       "Kijang   15.0   6.166667      400.0  150.0\n",
       "Avanza   30.5   6.166667        NaN    NaN\n",
       "Datsun   23.0   6.166667      250.0  125.0\n",
       "Fiat     13.0   6.166667      351.0  158.0\n",
       "Fred     14.0   8.000000        NaN  215.0\n",
       "Jazz     25.4   5.000000        NaN   77.0\n",
       "Terios   37.7   4.000000       89.0   62.0"
      ]
     },
     "execution_count": 37,
     "metadata": {},
     "output_type": "execute_result"
    }
   ],
   "source": [
    "df[\"Cylinders\"] = df['Cylinders'].fillna(rata_silinder)\n",
    "df"
   ]
  },
  {
   "cell_type": "code",
   "execution_count": 38,
   "id": "2571cbf7-7c70-40e6-9e70-9fe57015c6d7",
   "metadata": {},
   "outputs": [
    {
     "data": {
      "text/plain": [
       "261.57142857142856"
      ]
     },
     "execution_count": 38,
     "metadata": {},
     "output_type": "execute_result"
    }
   ],
   "source": [
    "rata_kabin = df[\"Cubichnes\"].mean()\n",
    "rata_kabin"
   ]
  },
  {
   "cell_type": "code",
   "execution_count": 39,
   "id": "c53b3a91-4cc5-4e2f-be3e-12cfdad94d62",
   "metadata": {},
   "outputs": [
    {
     "data": {
      "text/html": [
       "<div>\n",
       "<style scoped>\n",
       "    .dataframe tbody tr th:only-of-type {\n",
       "        vertical-align: middle;\n",
       "    }\n",
       "\n",
       "    .dataframe tbody tr th {\n",
       "        vertical-align: top;\n",
       "    }\n",
       "\n",
       "    .dataframe thead th {\n",
       "        text-align: right;\n",
       "    }\n",
       "</style>\n",
       "<table border=\"1\" class=\"dataframe\">\n",
       "  <thead>\n",
       "    <tr style=\"text-align: right;\">\n",
       "      <th></th>\n",
       "      <th>MPG</th>\n",
       "      <th>Cylinders</th>\n",
       "      <th>Cubichnes</th>\n",
       "      <th>HP</th>\n",
       "    </tr>\n",
       "  </thead>\n",
       "  <tbody>\n",
       "    <tr>\n",
       "      <th>Yaris</th>\n",
       "      <td>14.0</td>\n",
       "      <td>8.000000</td>\n",
       "      <td>350.000000</td>\n",
       "      <td>165.0</td>\n",
       "    </tr>\n",
       "    <tr>\n",
       "      <th>Ayla</th>\n",
       "      <td>31.9</td>\n",
       "      <td>4.000000</td>\n",
       "      <td>89.000000</td>\n",
       "      <td>71.0</td>\n",
       "    </tr>\n",
       "    <tr>\n",
       "      <th>Wuling</th>\n",
       "      <td>517.0</td>\n",
       "      <td>8.000000</td>\n",
       "      <td>302.000000</td>\n",
       "      <td>140.0</td>\n",
       "    </tr>\n",
       "    <tr>\n",
       "      <th>Kijang</th>\n",
       "      <td>15.0</td>\n",
       "      <td>6.166667</td>\n",
       "      <td>400.000000</td>\n",
       "      <td>150.0</td>\n",
       "    </tr>\n",
       "    <tr>\n",
       "      <th>Avanza</th>\n",
       "      <td>30.5</td>\n",
       "      <td>6.166667</td>\n",
       "      <td>261.571429</td>\n",
       "      <td>NaN</td>\n",
       "    </tr>\n",
       "    <tr>\n",
       "      <th>Datsun</th>\n",
       "      <td>23.0</td>\n",
       "      <td>6.166667</td>\n",
       "      <td>250.000000</td>\n",
       "      <td>125.0</td>\n",
       "    </tr>\n",
       "    <tr>\n",
       "      <th>Fiat</th>\n",
       "      <td>13.0</td>\n",
       "      <td>6.166667</td>\n",
       "      <td>351.000000</td>\n",
       "      <td>158.0</td>\n",
       "    </tr>\n",
       "    <tr>\n",
       "      <th>Fred</th>\n",
       "      <td>14.0</td>\n",
       "      <td>8.000000</td>\n",
       "      <td>261.571429</td>\n",
       "      <td>215.0</td>\n",
       "    </tr>\n",
       "    <tr>\n",
       "      <th>Jazz</th>\n",
       "      <td>25.4</td>\n",
       "      <td>5.000000</td>\n",
       "      <td>261.571429</td>\n",
       "      <td>77.0</td>\n",
       "    </tr>\n",
       "    <tr>\n",
       "      <th>Terios</th>\n",
       "      <td>37.7</td>\n",
       "      <td>4.000000</td>\n",
       "      <td>89.000000</td>\n",
       "      <td>62.0</td>\n",
       "    </tr>\n",
       "  </tbody>\n",
       "</table>\n",
       "</div>"
      ],
      "text/plain": [
       "          MPG  Cylinders   Cubichnes     HP\n",
       "Yaris    14.0   8.000000  350.000000  165.0\n",
       "Ayla     31.9   4.000000   89.000000   71.0\n",
       "Wuling  517.0   8.000000  302.000000  140.0\n",
       "Kijang   15.0   6.166667  400.000000  150.0\n",
       "Avanza   30.5   6.166667  261.571429    NaN\n",
       "Datsun   23.0   6.166667  250.000000  125.0\n",
       "Fiat     13.0   6.166667  351.000000  158.0\n",
       "Fred     14.0   8.000000  261.571429  215.0\n",
       "Jazz     25.4   5.000000  261.571429   77.0\n",
       "Terios   37.7   4.000000   89.000000   62.0"
      ]
     },
     "execution_count": 39,
     "metadata": {},
     "output_type": "execute_result"
    }
   ],
   "source": [
    "df[\"Cubichnes\"] = df['Cubichnes'].fillna(rata_kabin)\n",
    "df"
   ]
  },
  {
   "cell_type": "markdown",
   "id": "16fe8855-b829-4a24-b39f-7605d6f894db",
   "metadata": {},
   "source": [
    "#### Atau kita bisa mengganti missing value demgan menghapus baris tersebut"
   ]
  },
  {
   "cell_type": "raw",
   "id": "8fcb2ab3-ad0f-4711-a116-a60ee2a3810f",
   "metadata": {
    "scrolled": true
   },
   "source": [
    "a = data_contoh.dropna()\n",
    "a"
   ]
  },
  {
   "cell_type": "code",
   "execution_count": 11,
   "id": "8f0da0c8-11c1-43f6-9cb3-a3228a88cc07",
   "metadata": {},
   "outputs": [
    {
     "data": {
      "text/plain": [
       "array([3.0283899 , 5.10319202, 4.56089867, 5.04518612, 5.97832836,\n",
       "       5.28294006, 6.23320124, 5.48260052, 5.1712212 , 5.55724469,\n",
       "       4.74563467, 6.17044864])"
      ]
     },
     "execution_count": 11,
     "metadata": {},
     "output_type": "execute_result"
    }
   ],
   "source": [
    "np.random.normal(loc=5, scale=1.0, size=12)"
   ]
  },
  {
   "cell_type": "code",
   "execution_count": 60,
   "id": "15b92e15-2191-432e-aee0-3bab7d220e85",
   "metadata": {
    "scrolled": true
   },
   "outputs": [
    {
     "name": "stdout",
     "output_type": "stream",
     "text": [
      "   sr.no                          Name   Address         Phone    Status  \\\n",
      "0      1         Mareta Putri Wardhana  Surabaya  2.108301e+10    Client   \n",
      "1      2  Citra Amelia Intan Permadani   Surbaya  2.108301e+10    Client   \n",
      "2      3          Sandria Amelia Putri    Madiun           NaN       NaN   \n",
      "3      4       Amanda Ayu Dewi Lestari    Madiun  2.108301e+10    Client   \n",
      "4      5           Adelia Azizatul Haq   Jombang  2.108301e+10  Internal   \n",
      "5      6           Naomi Dwi Anggraini   Jombang  2.108301e+10  Intrenal   \n",
      "6      7           Adelia Azizatul Haq   Jombang  2.108301e+10  Internal   \n",
      "7      8     Dwinggrit Oktaviani Putri    Kediri  2.108301e+10  Internal   \n",
      "8      9       Mohammad Nizar Riswanda    Blitar  2.108301e+10       NaN   \n",
      "9     10          Amalia Nur Ramadhani    Blitar  2.108301e+10  Internal   \n",
      "\n",
      "                 email  IPK  \n",
      "0      Mareta@text.com  3.5  \n",
      "1       Citra@text.com  3.8  \n",
      "2     Sandria@text.com  3.9  \n",
      "3      Amanda@text.com  4.0  \n",
      "4      Adelia@text.com  3.7  \n",
      "5       Naomi@text.com  NaN  \n",
      "6      Adelia@text.com  3.6  \n",
      "7  Dwinggrit@text.com   3.6  \n",
      "8                  NaN  3.8  \n",
      "9      Amalia@text.com  NaN  \n"
     ]
    }
   ],
   "source": [
    "employee = pd.read_csv(\"C:/Dokumen/1. SAINS DATA/SEMESTER 4/Data Mining/Tugas/P3/data P3.csv\")\n",
    "print(employee)"
   ]
  },
  {
   "cell_type": "markdown",
   "id": "f96b79d9-735d-4c78-a69d-6511a541cc85",
   "metadata": {},
   "source": [
    "#### Menghapus data yang berulang dengan tetap mempertahankan salah satu baris (baris pertama)"
   ]
  },
  {
   "cell_type": "code",
   "execution_count": 61,
   "id": "21dece2f-13b5-4a78-babe-b3743793da2a",
   "metadata": {
    "scrolled": true
   },
   "outputs": [
    {
     "name": "stdout",
     "output_type": "stream",
     "text": [
      "   sr.no                          Name   Address         Phone    Status  \\\n",
      "0      1         Mareta Putri Wardhana  Surabaya  2.108301e+10    Client   \n",
      "1      2  Citra Amelia Intan Permadani   Surbaya  2.108301e+10    Client   \n",
      "2      3          Sandria Amelia Putri    Madiun           NaN       NaN   \n",
      "3      4       Amanda Ayu Dewi Lestari    Madiun  2.108301e+10    Client   \n",
      "4      5           Adelia Azizatul Haq   Jombang  2.108301e+10  Internal   \n",
      "5      6           Naomi Dwi Anggraini   Jombang  2.108301e+10  Intrenal   \n",
      "7      8     Dwinggrit Oktaviani Putri    Kediri  2.108301e+10  Internal   \n",
      "8      9       Mohammad Nizar Riswanda    Blitar  2.108301e+10       NaN   \n",
      "9     10          Amalia Nur Ramadhani    Blitar  2.108301e+10  Internal   \n",
      "\n",
      "                 email  IPK  \n",
      "0      Mareta@text.com  3.5  \n",
      "1       Citra@text.com  3.8  \n",
      "2     Sandria@text.com  3.9  \n",
      "3      Amanda@text.com  4.0  \n",
      "4      Adelia@text.com  3.7  \n",
      "5       Naomi@text.com  NaN  \n",
      "7  Dwinggrit@text.com   3.6  \n",
      "8                  NaN  3.8  \n",
      "9      Amalia@text.com  NaN  \n"
     ]
    }
   ],
   "source": [
    "employee.drop_duplicates(subset=\"Name\", keep = 'first', inplace = True)\n",
    "print(employee)"
   ]
  },
  {
   "cell_type": "markdown",
   "id": "e98bbc30-7e64-4dd0-9f8f-ccb52f62a435",
   "metadata": {},
   "source": [
    "Fungsi \"drop_duplicates\" digunakan untuk menghapus baris berulang. Parameter yang ada meliputi:\n",
    "1. subset: menetapkan nama kolom ke parameter subset untuk memeriksa nilai berulang.\n",
    "    Secara default, parameter ini akan memeriksa semua kolom.\n",
    "     keep: untuk menyimpan baris pertama (5)\n",
    "\n",
    "inplace: Boolean case (True or False)\n",
    "    dengan memilih \"True\" maka perintah akan dijalankan dengan menghapus nilai selain baris pertama\n"
   ]
  },
  {
   "cell_type": "code",
   "execution_count": 62,
   "id": "ef341258-25d9-45b4-94a7-98b83e2d8675",
   "metadata": {},
   "outputs": [
    {
     "name": "stdout",
     "output_type": "stream",
     "text": [
      "   sr.no   Name  Address  Phone  Status  email    IPK\n",
      "0  False  False    False  False   False  False  False\n",
      "1  False  False    False  False   False  False  False\n",
      "2  False  False    False   True    True  False  False\n",
      "3  False  False    False  False   False  False  False\n",
      "4  False  False    False  False   False  False  False\n",
      "5  False  False    False  False   False  False   True\n",
      "7  False  False    False  False   False  False  False\n",
      "8  False  False    False  False    True   True  False\n",
      "9  False  False    False  False   False  False   True\n"
     ]
    }
   ],
   "source": [
    "missing = employee.isnull()\n",
    "print(missing)"
   ]
  },
  {
   "cell_type": "code",
   "execution_count": 63,
   "id": "41880215-328b-47ac-a5c5-eab44b4a9864",
   "metadata": {},
   "outputs": [
    {
     "name": "stdout",
     "output_type": "stream",
     "text": [
      "   sr.no                          Name   Address         Phone    Status  \\\n",
      "0      1         Mareta Putri Wardhana  Surabaya  2.108301e+10    Client   \n",
      "1      2  Citra Amelia Intan Permadani   Surbaya  2.108301e+10    Client   \n",
      "3      4       Amanda Ayu Dewi Lestari    Madiun  2.108301e+10    Client   \n",
      "4      5           Adelia Azizatul Haq   Jombang  2.108301e+10  Internal   \n",
      "7      8     Dwinggrit Oktaviani Putri    Kediri  2.108301e+10  Internal   \n",
      "\n",
      "                 email  IPK  \n",
      "0      Mareta@text.com  3.5  \n",
      "1       Citra@text.com  3.8  \n",
      "3      Amanda@text.com  4.0  \n",
      "4      Adelia@text.com  3.7  \n",
      "7  Dwinggrit@text.com   3.6  \n"
     ]
    }
   ],
   "source": [
    "employee = employee.dropna(axis=0)\n",
    "print(employee)"
   ]
  },
  {
   "cell_type": "markdown",
   "id": "2b26134e-f2df-4d1b-8fdd-851ccdee18d5",
   "metadata": {},
   "source": [
    "#### Penggantian nama kolom"
   ]
  },
  {
   "cell_type": "code",
   "execution_count": 64,
   "id": "221a0466-fa0a-4d3e-99d5-df690179c700",
   "metadata": {},
   "outputs": [
    {
     "name": "stdout",
     "output_type": "stream",
     "text": [
      "['sr.no', 'Employee_Name', 'Address', 'Phone(WA)', 'Project_Type', 'Email_id']\n"
     ]
    }
   ],
   "source": [
    "employee_kolom = ['sr.no','Employee_Name', 'Address', 'Phone(WA)','Project_Type','Email_id']\n",
    "print(employee_kolom)"
   ]
  },
  {
   "cell_type": "markdown",
   "id": "544550aa-ba89-4162-906d-b11a657ee7ab",
   "metadata": {},
   "source": [
    "#### Penghapusan data yang tidak relevan dan penghapusan kolom"
   ]
  },
  {
   "cell_type": "code",
   "execution_count": 65,
   "id": "f9d765f8-5b80-429c-9f3d-bfedb1ba78f3",
   "metadata": {},
   "outputs": [
    {
     "name": "stdout",
     "output_type": "stream",
     "text": [
      "                           Name   Address         Phone    Status  \\\n",
      "0         Mareta Putri Wardhana  Surabaya  2.108301e+10    Client   \n",
      "1  Citra Amelia Intan Permadani   Surbaya  2.108301e+10    Client   \n",
      "3       Amanda Ayu Dewi Lestari    Madiun  2.108301e+10    Client   \n",
      "4           Adelia Azizatul Haq   Jombang  2.108301e+10  Internal   \n",
      "7     Dwinggrit Oktaviani Putri    Kediri  2.108301e+10  Internal   \n",
      "\n",
      "                 email  IPK  \n",
      "0      Mareta@text.com  3.5  \n",
      "1       Citra@text.com  3.8  \n",
      "3      Amanda@text.com  4.0  \n",
      "4      Adelia@text.com  3.7  \n",
      "7  Dwinggrit@text.com   3.6  \n"
     ]
    }
   ],
   "source": [
    "del employee['sr.no']\n",
    "print(employee)"
   ]
  },
  {
   "cell_type": "markdown",
   "id": "b03e7e50-40c8-4a06-ab6f-a515e5a2a128",
   "metadata": {},
   "source": [
    "#### Penanganan Typo atau kesalahan penulisan"
   ]
  },
  {
   "cell_type": "code",
   "execution_count": 66,
   "id": "c41676a2-2ec3-46de-8d13-2d0c2f7be2f2",
   "metadata": {},
   "outputs": [
    {
     "name": "stdout",
     "output_type": "stream",
     "text": [
      "                           Name   Address         Phone    Status  \\\n",
      "0         Mareta Putri Wardhana  Surabaya  2.108301e+10    Client   \n",
      "1  Citra Amelia Intan Permadani  Surabaya  2.108301e+10    Client   \n",
      "3       Amanda Ayu Dewi Lestari    Madiun  2.108301e+10    Client   \n",
      "4           Adelia Azizatul Haq   Jombang  2.108301e+10  Internal   \n",
      "7     Dwinggrit Oktaviani Putri    Kediri  2.108301e+10  Internal   \n",
      "\n",
      "                 email  IPK  \n",
      "0      Mareta@text.com  3.5  \n",
      "1       Citra@text.com  3.8  \n",
      "3      Amanda@text.com  4.0  \n",
      "4      Adelia@text.com  3.7  \n",
      "7  Dwinggrit@text.com   3.6  \n"
     ]
    }
   ],
   "source": [
    "employee['Address'] = employee['Address'].str.replace('Surbaya','Surabaya')\n",
    "print(employee)"
   ]
  },
  {
   "cell_type": "code",
   "execution_count": 67,
   "id": "fc8b122f-be75-4f46-a9e4-c697cd9eb159",
   "metadata": {},
   "outputs": [
    {
     "name": "stdout",
     "output_type": "stream",
     "text": [
      "                           Name   Address         Phone    Status  \\\n",
      "0         Mareta Putri Wardhana  Surabaya  2.108301e+10    Client   \n",
      "1  Citra Amelia Intan Permadani  Surabaya  2.108301e+10    Client   \n",
      "3       Amanda Ayu Dewi Lestari    Madiun  2.108301e+10    Client   \n",
      "4           Adelia Azizatul Haq   Jombang  2.108301e+10  Internal   \n",
      "7     Dwinggrit Oktaviani Putri    Kediri  2.108301e+10  Internal   \n",
      "\n",
      "                 email  IPK  \n",
      "0      Mareta@text.com  3.5  \n",
      "1       Citra@text.com  3.8  \n",
      "3      Amanda@text.com  4.0  \n",
      "4      Adelia@text.com  3.7  \n",
      "7  Dwinggrit@text.com   3.6  \n"
     ]
    }
   ],
   "source": [
    "print(employee.fillna({'Status': 'External'}))"
   ]
  },
  {
   "cell_type": "code",
   "execution_count": 69,
   "id": "f6c7f859-c50e-401c-8ac2-744b1186d95e",
   "metadata": {},
   "outputs": [
    {
     "name": "stdout",
     "output_type": "stream",
     "text": [
      "   sr.no                          Name   Address         Phone    Status  \\\n",
      "0      1         Mareta Putri Wardhana  Surabaya  2.108301e+10    Client   \n",
      "1      2  Citra Amelia Intan Permadani   Surbaya  2.108301e+10    Client   \n",
      "2      3          Sandria Amelia Putri    Madiun           NaN       NaN   \n",
      "3      4       Amanda Ayu Dewi Lestari    Madiun  2.108301e+10    Client   \n",
      "4      5           Adelia Azizatul Haq   Jombang  2.108301e+10  Internal   \n",
      "5      6           Naomi Dwi Anggraini   Jombang  2.108301e+10  Intrenal   \n",
      "6      7           Adelia Azizatul Haq   Jombang  2.108301e+10  Internal   \n",
      "7      8     Dwinggrit Oktaviani Putri    Kediri  2.108301e+10  Internal   \n",
      "8      9       Mohammad Nizar Riswanda    Blitar  2.108301e+10       NaN   \n",
      "9     10          Amalia Nur Ramadhani    Blitar  2.108301e+10  Internal   \n",
      "\n",
      "                 email  IPK  \n",
      "0      Mareta@text.com  3.5  \n",
      "1       Citra@text.com  3.8  \n",
      "2     Sandria@text.com  3.9  \n",
      "3      Amanda@text.com  4.0  \n",
      "4      Adelia@text.com  3.7  \n",
      "5       Naomi@text.com  NaN  \n",
      "6      Adelia@text.com  3.6  \n",
      "7  Dwinggrit@text.com   3.6  \n",
      "8                  NaN  3.8  \n",
      "9      Amalia@text.com  NaN  \n"
     ]
    }
   ],
   "source": [
    "from statistics import mean\n",
    "employee = pd.read_csv(\"C:/Dokumen/1. SAINS DATA/SEMESTER 4/Data Mining/Tugas/P3/data P3.csv\")\n",
    "print(employee)"
   ]
  },
  {
   "cell_type": "code",
   "execution_count": 70,
   "id": "6773281a-438c-4f25-bd0b-8a802683bc60",
   "metadata": {},
   "outputs": [
    {
     "name": "stdout",
     "output_type": "stream",
     "text": [
      "   sr.no                          Name   Address         Phone    Status  \\\n",
      "0      1         Mareta Putri Wardhana  Surabaya  2.108301e+10    Client   \n",
      "1      2  Citra Amelia Intan Permadani   Surbaya  2.108301e+10    Client   \n",
      "2      3          Sandria Amelia Putri    Madiun           NaN       NaN   \n",
      "3      4       Amanda Ayu Dewi Lestari    Madiun  2.108301e+10    Client   \n",
      "4      5           Adelia Azizatul Haq   Jombang  2.108301e+10  Internal   \n",
      "5      6           Naomi Dwi Anggraini   Jombang  2.108301e+10  Intrenal   \n",
      "6      7           Adelia Azizatul Haq   Jombang  2.108301e+10  Internal   \n",
      "7      8     Dwinggrit Oktaviani Putri    Kediri  2.108301e+10  Internal   \n",
      "8      9       Mohammad Nizar Riswanda    Blitar  2.108301e+10       NaN   \n",
      "9     10          Amalia Nur Ramadhani    Blitar  2.108301e+10  Internal   \n",
      "\n",
      "                 email  IPK  \n",
      "0      Mareta@text.com  3.5  \n",
      "1       Citra@text.com  3.8  \n",
      "2     Sandria@text.com  3.9  \n",
      "3      Amanda@text.com  4.0  \n",
      "4      Adelia@text.com  3.7  \n",
      "5       Naomi@text.com  NaN  \n",
      "6      Adelia@text.com  3.6  \n",
      "7  Dwinggrit@text.com   3.6  \n",
      "8                  NaN  3.8  \n",
      "9      Amalia@text.com  NaN  \n",
      "3.7375000000000003\n"
     ]
    }
   ],
   "source": [
    "print(employee)\n",
    "a = np.mean(employee['IPK'])\n",
    "print(a)"
   ]
  },
  {
   "cell_type": "code",
   "execution_count": 71,
   "id": "67d2c8b6-c6df-4d50-831e-d13549095d03",
   "metadata": {},
   "outputs": [
    {
     "name": "stdout",
     "output_type": "stream",
     "text": [
      "   sr.no                          Name   Address         Phone    Status  \\\n",
      "0      1         Mareta Putri Wardhana  Surabaya  2.108301e+10    Client   \n",
      "1      2  Citra Amelia Intan Permadani   Surbaya  2.108301e+10    Client   \n",
      "2      3          Sandria Amelia Putri    Madiun           NaN       NaN   \n",
      "3      4       Amanda Ayu Dewi Lestari    Madiun  2.108301e+10    Client   \n",
      "4      5           Adelia Azizatul Haq   Jombang  2.108301e+10  Internal   \n",
      "5      6           Naomi Dwi Anggraini   Jombang  2.108301e+10  Intrenal   \n",
      "6      7           Adelia Azizatul Haq   Jombang  2.108301e+10  Internal   \n",
      "7      8     Dwinggrit Oktaviani Putri    Kediri  2.108301e+10  Internal   \n",
      "8      9       Mohammad Nizar Riswanda    Blitar  2.108301e+10       NaN   \n",
      "9     10          Amalia Nur Ramadhani    Blitar  2.108301e+10  Internal   \n",
      "\n",
      "                 email     IPK  \n",
      "0      Mareta@text.com  3.5000  \n",
      "1       Citra@text.com  3.8000  \n",
      "2     Sandria@text.com  3.9000  \n",
      "3      Amanda@text.com  4.0000  \n",
      "4      Adelia@text.com  3.7000  \n",
      "5       Naomi@text.com  3.7375  \n",
      "6      Adelia@text.com  3.6000  \n",
      "7  Dwinggrit@text.com   3.6000  \n",
      "8                  NaN  3.8000  \n",
      "9      Amalia@text.com  3.7375  \n"
     ]
    }
   ],
   "source": [
    "print(employee.fillna({'IPK': a}))"
   ]
  },
  {
   "cell_type": "code",
   "execution_count": 72,
   "id": "c5bafce1-09d3-4222-82f7-a0f87d2df125",
   "metadata": {},
   "outputs": [
    {
     "name": "stdout",
     "output_type": "stream",
     "text": [
      "0    Jombang\n",
      "Name: Address, dtype: object\n"
     ]
    }
   ],
   "source": [
    "modus = employee['Address'].mode()\n",
    "print(modus)"
   ]
  }
 ],
 "metadata": {
  "kernelspec": {
   "display_name": "Python 3 (ipykernel)",
   "language": "python",
   "name": "python3"
  },
  "language_info": {
   "codemirror_mode": {
    "name": "ipython",
    "version": 3
   },
   "file_extension": ".py",
   "mimetype": "text/x-python",
   "name": "python",
   "nbconvert_exporter": "python",
   "pygments_lexer": "ipython3",
   "version": "3.11.5"
  }
 },
 "nbformat": 4,
 "nbformat_minor": 5
}
